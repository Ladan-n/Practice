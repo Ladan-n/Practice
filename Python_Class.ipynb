{
 "cells": [
  {
   "cell_type": "code",
   "execution_count": 1,
   "metadata": {},
   "outputs": [
    {
     "name": "stdout",
     "output_type": "stream",
     "text": [
      "First name: Ladan\n",
      "Last name: Naimi\n",
      "Courses Python, Rails, Javascript\n",
      "First name: John\n",
      "Last name: Smith\n",
      "Courses Java, Rails, C\n",
      "['__class__', '__delattr__', '__dict__', '__dir__', '__doc__', '__eq__', '__format__', '__ge__', '__getattribute__', '__gt__', '__hash__', '__init__', '__init_subclass__', '__le__', '__len__', '__lt__', '__module__', '__ne__', '__new__', '__reduce__', '__reduce_ex__', '__repr__', '__setattr__', '__sizeof__', '__str__', '__subclasshook__', '__weakref__', 'add_course', 'courses', 'first_name', 'last_name', 'remove_course']\n",
      "{'first_name': 'ladan', 'last_name': 'naimi', 'courses': ['python', 'rails', 'javascript']}\n",
      "3\n"
     ]
    }
   ],
   "source": [
    "# Build Student Class\n",
    "class Student:\n",
    "    def __init__(self, first, last, courses = None):\n",
    "        self.first_name = first\n",
    "        self.last_name = last\n",
    "        if courses == None:\n",
    "            self.courses = []\n",
    "        else:\n",
    "            self.courses = courses\n",
    "            \n",
    "    def add_course(self, course):\n",
    "        if course not in self.courses:\n",
    "            self.courses.append(course)\n",
    "        else:\n",
    "            print(f\"{self.first_name} is already enrolled in the {course} courses\")\n",
    "            \n",
    "            \n",
    "    def remove_course(self, course) :\n",
    "        if course in self.courses:\n",
    "            self.courses.remove(course)\n",
    "        else:\n",
    "            print(f\"{self.first_name} is not enrolled in {course} course\")\n",
    "            \n",
    "    def __len__(self):\n",
    "        return len(self.courses)\n",
    "            \n",
    "    def __str__ (self):\n",
    "        return f\"First name: {self.first_name.capitalize()}\\nLast name: {self.last_name.capitalize()}\\nCourses {', '.join(map(str.capitalize, self.courses))}\"\n",
    "    \n",
    "courses_1 = ['python','rails','javascript']\n",
    "courses_2 = ['java','rails', 'c']\n",
    "ladan = Student('ladan','naimi', courses_1)\n",
    "john = Student('john','smith',courses_2)\n",
    "\n",
    "\n",
    "\n",
    "print(ladan)\n",
    "print(john)\n",
    "\n",
    "print(dir(ladan))\n",
    "\n",
    "print(ladan.__dict__)\n",
    "\n",
    "print(len(ladan))\n"
   ]
  },
  {
   "cell_type": "code",
   "execution_count": null,
   "metadata": {},
   "outputs": [],
   "source": []
  }
 ],
 "metadata": {
  "kernelspec": {
   "display_name": "Python 3",
   "language": "python",
   "name": "python3"
  },
  "language_info": {
   "codemirror_mode": {
    "name": "ipython",
    "version": 3
   },
   "file_extension": ".py",
   "mimetype": "text/x-python",
   "name": "python",
   "nbconvert_exporter": "python",
   "pygments_lexer": "ipython3",
   "version": "3.8.3"
  }
 },
 "nbformat": 4,
 "nbformat_minor": 4
}
